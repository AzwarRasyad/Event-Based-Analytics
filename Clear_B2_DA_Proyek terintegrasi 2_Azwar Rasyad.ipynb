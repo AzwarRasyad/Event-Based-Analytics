{
 "cells": [
  {
   "cell_type": "markdown",
   "metadata": {},
   "source": [
    "# Deskripsi Proyek\n",
    "\n",
    "Anda bekerja di sebuah startup yang menjual produk makanan. Anda perlu mencari tahu perilaku pengguna aplikasi dari perusahaan tersebut.\n",
    "\n",
    "Pertama-tama, cobalah untuk mempelajari terlebih dahulu corong penjualannya. Temukan jalur yang harus dilalui pengguna untuk bisa mencapai tahap pembelian. Berapa banyak pengguna yang benar-benar berhasil mencapai tahap pembelian? Berapa banyak pengguna yang terhenti pada tahap-tahap sebelumnya? Pada tahap manakah persisnya hal tersebut terjadi?\n",
    "\n",
    "Kemudian, lihatlah hasil dari A/A/B testing (Baca terus untuk mengetahui informasi lebih lanjut tentang A/A/B testing). Tim web designer ingin mengubah font untuk keseluruhan aplikasi, tetapi product manager merasa khawatir jika para pengguna justru akan merasa bahwa desain baru tersebut mengganggu. Mereka pun memutuskan untuk mengambil keputusan berdasarkan hasil A/A/B testing.\n",
    "\n",
    "Para pengguna dibagi menjadi tiga kelompok: dua kelompok kontrol diperlihatkan dengan versi font lama dan satu kelompok uji diperlihatkan dengan versi font terbaru. Tugas Anda adalah mencari tahu font manakah yang akan memberi hasil terbaik.\n",
    "\n",
    "Membuat dua kelompok A (kontrol) memang memberikan keuntungan tertentu. Kita bisa menetapkan aturan bahwa keakuratan pengujian hanya akan diterima jika kedua kelompok kontrol memberikan hasil yang serupa. Jika terdapat perbedaan yang signifikan di antara kedua kelompok A, hal ini dapat membantu kita untuk mengidentifikasi faktor-faktor yang mungkin mendistorsi hasil yang kita peroleh. Membandingkan kelompok kontrol juga akan memberikan kita gambaran terkait berapa lama waktu dan data yang diperlukan saat menjalankan proses selanjutnya.\n",
    "\n",
    "Anda akan menggunakan dataset yang sama untuk melakukan analisis reguler dan untuk melakukan analisis A/A/B. Pada proyek dunia nyata, eksperimen seperti ini dilakukan secara rutin. Analis mempelajari kualitas aplikasi menggunakan data umum, tanpa memedulikan apakah pengguna berpartisipasi dalam eksperimen atau tidak."
   ]
  },
  {
   "cell_type": "markdown",
   "metadata": {},
   "source": [
    "# Deskripsi Data\n",
    "\n",
    "Setiap entri log adalah catatan tindakan pengguna atau suatu peristiwa.\n",
    "\n",
    "- `EventName` — nama peristiwa\n",
    "- `DeviceIDHash` — ID unik pengguna\n",
    "- `EventTimestamp` — waktu peristiwa\n",
    "- `ExpId` — nomor eksperimen: 246 dan 247 untuk kelompok kontrol, 248 untuk kelompok uji"
   ]
  },
  {
   "cell_type": "markdown",
   "metadata": {},
   "source": [
    "# Instruksi Menyelesaikan Proyek\n",
    "\n",
    "**Langkah 1. Buka file data dan pelajari informasi umumnya**\n",
    "\n",
    "File path: `/datasets/logs_exp_us.csv` \n",
    "\n",
    "**Langkah 2. Siapkan data untuk analisis**\n",
    "\n",
    "- Ubah nama kolom sesuai dengan yang Anda inginkan.\n",
    "- Periksa nilai yang hilang dan tipe datanya. Perbaiki datanya jika diperlukan.\n",
    "- Tambahkan kolom tanggal dan waktu, serta satu kolom terpisah untuk tanggal.\n",
    "\n",
    "**Langkah 3. Pelajari dan periksa datanya**\n",
    "\n",
    "- Berapa banyak peristiwa yang tercatat dalam log?\n",
    "- Berapa banyak pengguna yang tercatat dalam log?\n",
    "- Berapa jumlah rata-rata peristiwa per pengguna?\n",
    "- Periode waktu manakah yang dicakup oleh data? Temukan tanggal maksimum dan minimumnya. Buatlah sebuah histogram berdasarkan tanggal dan waktu. Bisakah Anda memastikan bahwa data yang Anda miliki sama lengkapnya untuk seluruh periode? Peristiwa terdahulu bisa saja muncul dalam log beberapa pengguna karena alasan teknis, dan ini bisa mengacaukan distribusi data secara keseluruhan. Temukan momen ketika data mulai dirasa lengkap dan abaikan data lama tersebut. Periode manakah yang benar-benar diwakili oleh data yang Anda miliki?\n",
    "- Apakah Anda kehilangan banyak peristiwa dan pengguna saat menyingkirkan data lama?\n",
    "- Pastikan Anda memiliki pengguna dari ketiga kelompok eksperimen.\n",
    "\n",
    "**Langkah 4. Pelajari corong peristiwanya**\n",
    "\n",
    "- Lihat peristiwa apa saja yang ada dalam log dan berapa banyak frekuensi kemunculannya. Urutkan peristiwa tersebut berdasarkan frekuensi.\n",
    "- Temukan jumlah pengguna yang melakukan setiap tindakan. Urutkan peristiwa berdasarkan jumlah pengguna. Hitung proporsi pengguna yang melakukan tindakan setidaknya satu kali.\n",
    "- Menurut Anda, dalam urutan apa tindakan-tindakan tersebut terjadi? Apakah semuanya merupakan bagian dari satu urutan? Anda tidak perlu memperhitungkan semuanya saat menghitung corong.\n",
    "- Gunakan corong peristiwa untuk menemukan persentase pengguna yang terus berlanjut dari satu tahap ke tahap berikutnya. (Misalnya, untuk urutan peristiwa A → B → C, hitung rasio pengguna pada tahap B terhadap jumlah pengguna pada tahap A, serta rasio pengguna pada tahap C terhadap jumlah pengguna pada tahap B).\n",
    "- Pada tahap manakah Anda kehilangan banyak pengguna?\n",
    "- Berapa banyak persentase pengguna yang berhasil menyelesaikan seluruh tahapan yang ada, dari peristiwa pertama hingga pembayaran?\n",
    "\n",
    "**Langkah 5. Pelajari hasil eksperimen Anda**\n",
    "\n",
    "- Berapa banyak pengguna yang ada di setiap kelompok?\n",
    "- Kita memiliki dua kelompok kontrol dalam A/A testing, di mana kita memeriksa mekanisme dan perhitungan kita. Perhatikan apakah terdapat perbedaan yang signifikan secara statistik antara sampel 246 dan 247.\n",
    "- Pilih peristiwa yang paling populer. Pada setiap kelompok kontrol, temukan jumlah pengguna yang melakukan tindakan tersebut. Temukan persentasenya. Periksa apakah perbedaan antar kelompok signifikan secara statistik. Ulangi prosedur ini untuk semua peristiwa lainnya (akan menghemat waktu jika Anda bisa menciptakan sebuah fungsi khusus untuk melakukan pengujian ini). Bisakah Anda memastikan apakah kelompok-kelompok tersebut sudah dipisah dengan benar?\n",
    "- Lakukan hal yang sama untuk kelompok pengguna yang diperlihatkan versi font terbaru. Bandingkan hasilnya dengan masing-masing kelompok kontrol untuk setiap peristiwa secara terpisah. Bandingkan hasilnya dengan hasil gabungan untuk kelompok kontrol. Kesimpulan apa yang bisa Anda tarik dari eksperimen tersebut?\n",
    "- Berapa tingkat signifikansi yang Anda tetapkan untuk menguji hipotesis statistik yang disebutkan di atas? Hitung berapa banyak pengujian hipotesis statistik yang telah Anda lakukan. Dengan tingkat signifikansi statistik 0,1 - satu dari 10 hasil bisa saja salah. Berapa tingkat signifikansi yang seharusnya ditetapkan? Jika Anda ingin mengubahnya, jalankan ulang tahap sebelumnya dan periksa kesimpulan Anda."
   ]
  },
  {
   "cell_type": "markdown",
   "metadata": {},
   "source": [
    "## Membuka file dan mempelajari informasi umum"
   ]
  },
  {
   "cell_type": "code",
   "execution_count": 114,
   "metadata": {},
   "outputs": [],
   "source": [
    "import pandas as pd\n",
    "import numpy as np\n",
    "import seaborn as sns\n",
    "import matplotlib.pyplot as plt"
   ]
  },
  {
   "cell_type": "code",
   "execution_count": 115,
   "metadata": {},
   "outputs": [],
   "source": [
    "data = pd.read_csv('/datasets/logs_exp_us.csv', sep='\\t')"
   ]
  },
  {
   "cell_type": "code",
   "execution_count": 116,
   "metadata": {},
   "outputs": [
    {
     "data": {
      "text/html": [
       "<div>\n",
       "<style scoped>\n",
       "    .dataframe tbody tr th:only-of-type {\n",
       "        vertical-align: middle;\n",
       "    }\n",
       "\n",
       "    .dataframe tbody tr th {\n",
       "        vertical-align: top;\n",
       "    }\n",
       "\n",
       "    .dataframe thead th {\n",
       "        text-align: right;\n",
       "    }\n",
       "</style>\n",
       "<table border=\"1\" class=\"dataframe\">\n",
       "  <thead>\n",
       "    <tr style=\"text-align: right;\">\n",
       "      <th></th>\n",
       "      <th>EventName</th>\n",
       "      <th>DeviceIDHash</th>\n",
       "      <th>EventTimestamp</th>\n",
       "      <th>ExpId</th>\n",
       "    </tr>\n",
       "  </thead>\n",
       "  <tbody>\n",
       "    <tr>\n",
       "      <th>0</th>\n",
       "      <td>MainScreenAppear</td>\n",
       "      <td>4575588528974610257</td>\n",
       "      <td>1564029816</td>\n",
       "      <td>246</td>\n",
       "    </tr>\n",
       "    <tr>\n",
       "      <th>1</th>\n",
       "      <td>MainScreenAppear</td>\n",
       "      <td>7416695313311560658</td>\n",
       "      <td>1564053102</td>\n",
       "      <td>246</td>\n",
       "    </tr>\n",
       "    <tr>\n",
       "      <th>2</th>\n",
       "      <td>PaymentScreenSuccessful</td>\n",
       "      <td>3518123091307005509</td>\n",
       "      <td>1564054127</td>\n",
       "      <td>248</td>\n",
       "    </tr>\n",
       "    <tr>\n",
       "      <th>3</th>\n",
       "      <td>CartScreenAppear</td>\n",
       "      <td>3518123091307005509</td>\n",
       "      <td>1564054127</td>\n",
       "      <td>248</td>\n",
       "    </tr>\n",
       "    <tr>\n",
       "      <th>4</th>\n",
       "      <td>PaymentScreenSuccessful</td>\n",
       "      <td>6217807653094995999</td>\n",
       "      <td>1564055322</td>\n",
       "      <td>248</td>\n",
       "    </tr>\n",
       "  </tbody>\n",
       "</table>\n",
       "</div>"
      ],
      "text/plain": [
       "                 EventName         DeviceIDHash  EventTimestamp  ExpId\n",
       "0         MainScreenAppear  4575588528974610257      1564029816    246\n",
       "1         MainScreenAppear  7416695313311560658      1564053102    246\n",
       "2  PaymentScreenSuccessful  3518123091307005509      1564054127    248\n",
       "3         CartScreenAppear  3518123091307005509      1564054127    248\n",
       "4  PaymentScreenSuccessful  6217807653094995999      1564055322    248"
      ]
     },
     "execution_count": 116,
     "metadata": {},
     "output_type": "execute_result"
    }
   ],
   "source": [
    "data.head()"
   ]
  },
  {
   "cell_type": "code",
   "execution_count": 117,
   "metadata": {},
   "outputs": [
    {
     "data": {
      "text/plain": [
       "(244126, 4)"
      ]
     },
     "execution_count": 117,
     "metadata": {},
     "output_type": "execute_result"
    }
   ],
   "source": [
    "data.shape"
   ]
  },
  {
   "cell_type": "code",
   "execution_count": 118,
   "metadata": {},
   "outputs": [
    {
     "name": "stdout",
     "output_type": "stream",
     "text": [
      "<class 'pandas.core.frame.DataFrame'>\n",
      "RangeIndex: 244126 entries, 0 to 244125\n",
      "Data columns (total 4 columns):\n",
      " #   Column          Non-Null Count   Dtype \n",
      "---  ------          --------------   ----- \n",
      " 0   EventName       244126 non-null  object\n",
      " 1   DeviceIDHash    244126 non-null  int64 \n",
      " 2   EventTimestamp  244126 non-null  int64 \n",
      " 3   ExpId           244126 non-null  int64 \n",
      "dtypes: int64(3), object(1)\n",
      "memory usage: 7.5+ MB\n"
     ]
    }
   ],
   "source": [
    "data.info()"
   ]
  },
  {
   "cell_type": "code",
   "execution_count": 119,
   "metadata": {},
   "outputs": [
    {
     "data": {
      "text/plain": [
       "MainScreenAppear           119205\n",
       "OffersScreenAppear          46825\n",
       "CartScreenAppear            42731\n",
       "PaymentScreenSuccessful     34313\n",
       "Tutorial                     1052\n",
       "Name: EventName, dtype: int64"
      ]
     },
     "execution_count": 119,
     "metadata": {},
     "output_type": "execute_result"
    }
   ],
   "source": [
    "data['EventName'].value_counts()"
   ]
  },
  {
   "cell_type": "markdown",
   "metadata": {},
   "source": [
    "**findings:**\n",
    "\n",
    "- beberapa tipe data pada kolom tertentu perlu diubah\n",
    "- perlu perapian nama kolom"
   ]
  },
  {
   "cell_type": "markdown",
   "metadata": {},
   "source": [
    "## Menyiapkan data"
   ]
  },
  {
   "cell_type": "markdown",
   "metadata": {},
   "source": [
    "### Mengubah nama kolom "
   ]
  },
  {
   "cell_type": "code",
   "execution_count": 120,
   "metadata": {},
   "outputs": [],
   "source": [
    "data.rename(columns={\n",
    "    'EventName':'event',\n",
    "    'DeviceIDHash':'user_id',\n",
    "    'EventTimestamp':'timestamp',\n",
    "    'ExpId':'exp_id'\n",
    "}, inplace=True)"
   ]
  },
  {
   "cell_type": "code",
   "execution_count": 121,
   "metadata": {},
   "outputs": [
    {
     "data": {
      "text/html": [
       "<div>\n",
       "<style scoped>\n",
       "    .dataframe tbody tr th:only-of-type {\n",
       "        vertical-align: middle;\n",
       "    }\n",
       "\n",
       "    .dataframe tbody tr th {\n",
       "        vertical-align: top;\n",
       "    }\n",
       "\n",
       "    .dataframe thead th {\n",
       "        text-align: right;\n",
       "    }\n",
       "</style>\n",
       "<table border=\"1\" class=\"dataframe\">\n",
       "  <thead>\n",
       "    <tr style=\"text-align: right;\">\n",
       "      <th></th>\n",
       "      <th>event</th>\n",
       "      <th>user_id</th>\n",
       "      <th>timestamp</th>\n",
       "      <th>exp_id</th>\n",
       "    </tr>\n",
       "  </thead>\n",
       "  <tbody>\n",
       "    <tr>\n",
       "      <th>0</th>\n",
       "      <td>MainScreenAppear</td>\n",
       "      <td>4575588528974610257</td>\n",
       "      <td>1564029816</td>\n",
       "      <td>246</td>\n",
       "    </tr>\n",
       "    <tr>\n",
       "      <th>1</th>\n",
       "      <td>MainScreenAppear</td>\n",
       "      <td>7416695313311560658</td>\n",
       "      <td>1564053102</td>\n",
       "      <td>246</td>\n",
       "    </tr>\n",
       "    <tr>\n",
       "      <th>2</th>\n",
       "      <td>PaymentScreenSuccessful</td>\n",
       "      <td>3518123091307005509</td>\n",
       "      <td>1564054127</td>\n",
       "      <td>248</td>\n",
       "    </tr>\n",
       "    <tr>\n",
       "      <th>3</th>\n",
       "      <td>CartScreenAppear</td>\n",
       "      <td>3518123091307005509</td>\n",
       "      <td>1564054127</td>\n",
       "      <td>248</td>\n",
       "    </tr>\n",
       "    <tr>\n",
       "      <th>4</th>\n",
       "      <td>PaymentScreenSuccessful</td>\n",
       "      <td>6217807653094995999</td>\n",
       "      <td>1564055322</td>\n",
       "      <td>248</td>\n",
       "    </tr>\n",
       "  </tbody>\n",
       "</table>\n",
       "</div>"
      ],
      "text/plain": [
       "                     event              user_id   timestamp  exp_id\n",
       "0         MainScreenAppear  4575588528974610257  1564029816     246\n",
       "1         MainScreenAppear  7416695313311560658  1564053102     246\n",
       "2  PaymentScreenSuccessful  3518123091307005509  1564054127     248\n",
       "3         CartScreenAppear  3518123091307005509  1564054127     248\n",
       "4  PaymentScreenSuccessful  6217807653094995999  1564055322     248"
      ]
     },
     "execution_count": 121,
     "metadata": {},
     "output_type": "execute_result"
    }
   ],
   "source": [
    "data.head()"
   ]
  },
  {
   "cell_type": "markdown",
   "metadata": {},
   "source": [
    "### Periksa nilai yang hilang dan tipe datanya. Perbaiki datanya jika diperlukan."
   ]
  },
  {
   "cell_type": "code",
   "execution_count": 122,
   "metadata": {},
   "outputs": [
    {
     "data": {
      "text/plain": [
       "event        0\n",
       "user_id      0\n",
       "timestamp    0\n",
       "exp_id       0\n",
       "dtype: int64"
      ]
     },
     "execution_count": 122,
     "metadata": {},
     "output_type": "execute_result"
    }
   ],
   "source": [
    "# Mengecek nilai yang hilang\n",
    "data.isnull().sum()"
   ]
  },
  {
   "cell_type": "code",
   "execution_count": 123,
   "metadata": {},
   "outputs": [
    {
     "data": {
      "text/plain": [
       "413"
      ]
     },
     "execution_count": 123,
     "metadata": {},
     "output_type": "execute_result"
    }
   ],
   "source": [
    "# Mengecek duplikat\n",
    "data.duplicated().sum()"
   ]
  },
  {
   "cell_type": "code",
   "execution_count": 124,
   "metadata": {},
   "outputs": [],
   "source": [
    "# Menghapus duplikat\n",
    "data = data.drop_duplicates().reset_index(drop=True)"
   ]
  },
  {
   "cell_type": "code",
   "execution_count": 125,
   "metadata": {},
   "outputs": [
    {
     "data": {
      "text/plain": [
       "event        object\n",
       "user_id       int64\n",
       "timestamp     int64\n",
       "exp_id        int64\n",
       "dtype: object"
      ]
     },
     "execution_count": 125,
     "metadata": {},
     "output_type": "execute_result"
    }
   ],
   "source": [
    "# Mengecek tipe data\n",
    "data.dtypes"
   ]
  },
  {
   "cell_type": "markdown",
   "metadata": {},
   "source": [
    "**findings:**\n",
    "\n",
    "- kolom `timestamp` menurut saya tidak perlu diganti tipe datanya, tinggal ditambahkan kolom baru saja untuk tanggal lengkapnya"
   ]
  },
  {
   "cell_type": "markdown",
   "metadata": {},
   "source": [
    "### Tambahkan kolom tanggal dan waktu, serta satu kolom terpisah untuk tanggal."
   ]
  },
  {
   "cell_type": "code",
   "execution_count": 126,
   "metadata": {},
   "outputs": [],
   "source": [
    "# untuk kolom tanggal dan waktu\n",
    "data['date_time'] = pd.to_datetime(data['timestamp'], unit='s')"
   ]
  },
  {
   "cell_type": "code",
   "execution_count": 127,
   "metadata": {},
   "outputs": [
    {
     "data": {
      "text/html": [
       "<div>\n",
       "<style scoped>\n",
       "    .dataframe tbody tr th:only-of-type {\n",
       "        vertical-align: middle;\n",
       "    }\n",
       "\n",
       "    .dataframe tbody tr th {\n",
       "        vertical-align: top;\n",
       "    }\n",
       "\n",
       "    .dataframe thead th {\n",
       "        text-align: right;\n",
       "    }\n",
       "</style>\n",
       "<table border=\"1\" class=\"dataframe\">\n",
       "  <thead>\n",
       "    <tr style=\"text-align: right;\">\n",
       "      <th></th>\n",
       "      <th>event</th>\n",
       "      <th>user_id</th>\n",
       "      <th>timestamp</th>\n",
       "      <th>exp_id</th>\n",
       "      <th>date_time</th>\n",
       "    </tr>\n",
       "  </thead>\n",
       "  <tbody>\n",
       "    <tr>\n",
       "      <th>0</th>\n",
       "      <td>MainScreenAppear</td>\n",
       "      <td>4575588528974610257</td>\n",
       "      <td>1564029816</td>\n",
       "      <td>246</td>\n",
       "      <td>2019-07-25 04:43:36</td>\n",
       "    </tr>\n",
       "    <tr>\n",
       "      <th>1</th>\n",
       "      <td>MainScreenAppear</td>\n",
       "      <td>7416695313311560658</td>\n",
       "      <td>1564053102</td>\n",
       "      <td>246</td>\n",
       "      <td>2019-07-25 11:11:42</td>\n",
       "    </tr>\n",
       "    <tr>\n",
       "      <th>2</th>\n",
       "      <td>PaymentScreenSuccessful</td>\n",
       "      <td>3518123091307005509</td>\n",
       "      <td>1564054127</td>\n",
       "      <td>248</td>\n",
       "      <td>2019-07-25 11:28:47</td>\n",
       "    </tr>\n",
       "    <tr>\n",
       "      <th>3</th>\n",
       "      <td>CartScreenAppear</td>\n",
       "      <td>3518123091307005509</td>\n",
       "      <td>1564054127</td>\n",
       "      <td>248</td>\n",
       "      <td>2019-07-25 11:28:47</td>\n",
       "    </tr>\n",
       "    <tr>\n",
       "      <th>4</th>\n",
       "      <td>PaymentScreenSuccessful</td>\n",
       "      <td>6217807653094995999</td>\n",
       "      <td>1564055322</td>\n",
       "      <td>248</td>\n",
       "      <td>2019-07-25 11:48:42</td>\n",
       "    </tr>\n",
       "  </tbody>\n",
       "</table>\n",
       "</div>"
      ],
      "text/plain": [
       "                     event              user_id   timestamp  exp_id  \\\n",
       "0         MainScreenAppear  4575588528974610257  1564029816     246   \n",
       "1         MainScreenAppear  7416695313311560658  1564053102     246   \n",
       "2  PaymentScreenSuccessful  3518123091307005509  1564054127     248   \n",
       "3         CartScreenAppear  3518123091307005509  1564054127     248   \n",
       "4  PaymentScreenSuccessful  6217807653094995999  1564055322     248   \n",
       "\n",
       "            date_time  \n",
       "0 2019-07-25 04:43:36  \n",
       "1 2019-07-25 11:11:42  \n",
       "2 2019-07-25 11:28:47  \n",
       "3 2019-07-25 11:28:47  \n",
       "4 2019-07-25 11:48:42  "
      ]
     },
     "execution_count": 127,
     "metadata": {},
     "output_type": "execute_result"
    }
   ],
   "source": [
    "data.head()"
   ]
  },
  {
   "cell_type": "code",
   "execution_count": 128,
   "metadata": {},
   "outputs": [],
   "source": [
    "# kolom terpisah untuk tanggal saja\n",
    "data['date'] = data['date_time'].dt.date"
   ]
  },
  {
   "cell_type": "code",
   "execution_count": 129,
   "metadata": {},
   "outputs": [
    {
     "data": {
      "text/html": [
       "<div>\n",
       "<style scoped>\n",
       "    .dataframe tbody tr th:only-of-type {\n",
       "        vertical-align: middle;\n",
       "    }\n",
       "\n",
       "    .dataframe tbody tr th {\n",
       "        vertical-align: top;\n",
       "    }\n",
       "\n",
       "    .dataframe thead th {\n",
       "        text-align: right;\n",
       "    }\n",
       "</style>\n",
       "<table border=\"1\" class=\"dataframe\">\n",
       "  <thead>\n",
       "    <tr style=\"text-align: right;\">\n",
       "      <th></th>\n",
       "      <th>event</th>\n",
       "      <th>user_id</th>\n",
       "      <th>timestamp</th>\n",
       "      <th>exp_id</th>\n",
       "      <th>date_time</th>\n",
       "      <th>date</th>\n",
       "    </tr>\n",
       "  </thead>\n",
       "  <tbody>\n",
       "    <tr>\n",
       "      <th>0</th>\n",
       "      <td>MainScreenAppear</td>\n",
       "      <td>4575588528974610257</td>\n",
       "      <td>1564029816</td>\n",
       "      <td>246</td>\n",
       "      <td>2019-07-25 04:43:36</td>\n",
       "      <td>2019-07-25</td>\n",
       "    </tr>\n",
       "    <tr>\n",
       "      <th>1</th>\n",
       "      <td>MainScreenAppear</td>\n",
       "      <td>7416695313311560658</td>\n",
       "      <td>1564053102</td>\n",
       "      <td>246</td>\n",
       "      <td>2019-07-25 11:11:42</td>\n",
       "      <td>2019-07-25</td>\n",
       "    </tr>\n",
       "    <tr>\n",
       "      <th>2</th>\n",
       "      <td>PaymentScreenSuccessful</td>\n",
       "      <td>3518123091307005509</td>\n",
       "      <td>1564054127</td>\n",
       "      <td>248</td>\n",
       "      <td>2019-07-25 11:28:47</td>\n",
       "      <td>2019-07-25</td>\n",
       "    </tr>\n",
       "    <tr>\n",
       "      <th>3</th>\n",
       "      <td>CartScreenAppear</td>\n",
       "      <td>3518123091307005509</td>\n",
       "      <td>1564054127</td>\n",
       "      <td>248</td>\n",
       "      <td>2019-07-25 11:28:47</td>\n",
       "      <td>2019-07-25</td>\n",
       "    </tr>\n",
       "    <tr>\n",
       "      <th>4</th>\n",
       "      <td>PaymentScreenSuccessful</td>\n",
       "      <td>6217807653094995999</td>\n",
       "      <td>1564055322</td>\n",
       "      <td>248</td>\n",
       "      <td>2019-07-25 11:48:42</td>\n",
       "      <td>2019-07-25</td>\n",
       "    </tr>\n",
       "    <tr>\n",
       "      <th>5</th>\n",
       "      <td>CartScreenAppear</td>\n",
       "      <td>6217807653094995999</td>\n",
       "      <td>1564055323</td>\n",
       "      <td>248</td>\n",
       "      <td>2019-07-25 11:48:43</td>\n",
       "      <td>2019-07-25</td>\n",
       "    </tr>\n",
       "    <tr>\n",
       "      <th>6</th>\n",
       "      <td>OffersScreenAppear</td>\n",
       "      <td>8351860793733343758</td>\n",
       "      <td>1564066242</td>\n",
       "      <td>246</td>\n",
       "      <td>2019-07-25 14:50:42</td>\n",
       "      <td>2019-07-25</td>\n",
       "    </tr>\n",
       "    <tr>\n",
       "      <th>7</th>\n",
       "      <td>MainScreenAppear</td>\n",
       "      <td>5682100281902512875</td>\n",
       "      <td>1564085677</td>\n",
       "      <td>246</td>\n",
       "      <td>2019-07-25 20:14:37</td>\n",
       "      <td>2019-07-25</td>\n",
       "    </tr>\n",
       "    <tr>\n",
       "      <th>8</th>\n",
       "      <td>MainScreenAppear</td>\n",
       "      <td>1850981295691852772</td>\n",
       "      <td>1564086702</td>\n",
       "      <td>247</td>\n",
       "      <td>2019-07-25 20:31:42</td>\n",
       "      <td>2019-07-25</td>\n",
       "    </tr>\n",
       "    <tr>\n",
       "      <th>9</th>\n",
       "      <td>MainScreenAppear</td>\n",
       "      <td>5407636962369102641</td>\n",
       "      <td>1564112112</td>\n",
       "      <td>246</td>\n",
       "      <td>2019-07-26 03:35:12</td>\n",
       "      <td>2019-07-26</td>\n",
       "    </tr>\n",
       "  </tbody>\n",
       "</table>\n",
       "</div>"
      ],
      "text/plain": [
       "                     event              user_id   timestamp  exp_id  \\\n",
       "0         MainScreenAppear  4575588528974610257  1564029816     246   \n",
       "1         MainScreenAppear  7416695313311560658  1564053102     246   \n",
       "2  PaymentScreenSuccessful  3518123091307005509  1564054127     248   \n",
       "3         CartScreenAppear  3518123091307005509  1564054127     248   \n",
       "4  PaymentScreenSuccessful  6217807653094995999  1564055322     248   \n",
       "5         CartScreenAppear  6217807653094995999  1564055323     248   \n",
       "6       OffersScreenAppear  8351860793733343758  1564066242     246   \n",
       "7         MainScreenAppear  5682100281902512875  1564085677     246   \n",
       "8         MainScreenAppear  1850981295691852772  1564086702     247   \n",
       "9         MainScreenAppear  5407636962369102641  1564112112     246   \n",
       "\n",
       "            date_time        date  \n",
       "0 2019-07-25 04:43:36  2019-07-25  \n",
       "1 2019-07-25 11:11:42  2019-07-25  \n",
       "2 2019-07-25 11:28:47  2019-07-25  \n",
       "3 2019-07-25 11:28:47  2019-07-25  \n",
       "4 2019-07-25 11:48:42  2019-07-25  \n",
       "5 2019-07-25 11:48:43  2019-07-25  \n",
       "6 2019-07-25 14:50:42  2019-07-25  \n",
       "7 2019-07-25 20:14:37  2019-07-25  \n",
       "8 2019-07-25 20:31:42  2019-07-25  \n",
       "9 2019-07-26 03:35:12  2019-07-26  "
      ]
     },
     "execution_count": 129,
     "metadata": {},
     "output_type": "execute_result"
    }
   ],
   "source": [
    "data.head(10)"
   ]
  },
  {
   "cell_type": "markdown",
   "metadata": {},
   "source": [
    "## Mempelajari dan memeriksa data"
   ]
  },
  {
   "cell_type": "markdown",
   "metadata": {},
   "source": [
    "### Berapa banyak peristiwa yang tercatat dalam log?"
   ]
  },
  {
   "cell_type": "code",
   "execution_count": 130,
   "metadata": {},
   "outputs": [
    {
     "data": {
      "text/plain": [
       "243713"
      ]
     },
     "execution_count": 130,
     "metadata": {},
     "output_type": "execute_result"
    }
   ],
   "source": [
    "events = len(data)\n",
    "events"
   ]
  },
  {
   "cell_type": "markdown",
   "metadata": {},
   "source": [
    "**findings:**\n",
    "\n",
    "- terdapat `243713` peristiwa yang tercatat"
   ]
  },
  {
   "cell_type": "markdown",
   "metadata": {},
   "source": [
    "### Berapa banyak pengguna yang tercatat dalam log?"
   ]
  },
  {
   "cell_type": "code",
   "execution_count": 131,
   "metadata": {},
   "outputs": [
    {
     "data": {
      "text/plain": [
       "7551"
      ]
     },
     "execution_count": 131,
     "metadata": {},
     "output_type": "execute_result"
    }
   ],
   "source": [
    "users = len(data['user_id'].unique())\n",
    "users"
   ]
  },
  {
   "cell_type": "markdown",
   "metadata": {},
   "source": [
    "**findings:**\n",
    "\n",
    "- terdapat `7551` pengguna yang tercatat"
   ]
  },
  {
   "cell_type": "markdown",
   "metadata": {},
   "source": [
    "### Berapa jumlah rata-rata peristiwa per pengguna?"
   ]
  },
  {
   "cell_type": "code",
   "execution_count": 132,
   "metadata": {},
   "outputs": [
    {
     "data": {
      "text/plain": [
       "32.0"
      ]
     },
     "execution_count": 132,
     "metadata": {},
     "output_type": "execute_result"
    }
   ],
   "source": [
    "events_per_user = events / users\n",
    "round(events_per_user, 0)"
   ]
  },
  {
   "cell_type": "markdown",
   "metadata": {},
   "source": [
    "**findings:**\n",
    "\n",
    "- rata-rata peristiwa per pengguna nya adalah `32` "
   ]
  },
  {
   "cell_type": "markdown",
   "metadata": {},
   "source": [
    "###  Periode waktu manakah yang dicakup oleh data?"
   ]
  },
  {
   "cell_type": "markdown",
   "metadata": {},
   "source": [
    "- Temukan tanggal maksimum dan minimumnya. \n",
    "- Buatlah sebuah histogram berdasarkan tanggal dan waktu. \n",
    "- Bisakah Anda memastikan bahwa data yang Anda miliki sama lengkapnya untuk seluruh periode? \n",
    "- Peristiwa terdahulu bisa saja muncul dalam log beberapa pengguna karena alasan teknis, dan ini bisa mengacaukan distribusi data secara keseluruhan. \n",
    "- Temukan momen ketika data mulai dirasa lengkap dan abaikan data lama tersebut. \n",
    "- Periode manakah yang benar-benar diwakili oleh data yang Anda miliki?"
   ]
  },
  {
   "cell_type": "code",
   "execution_count": 133,
   "metadata": {},
   "outputs": [
    {
     "name": "stdout",
     "output_type": "stream",
     "text": [
      "2019-07-25 04:43:36\n",
      "2019-08-07 21:15:17\n"
     ]
    }
   ],
   "source": [
    "# tanggal maksimum dan minimumnya\n",
    "print(data['date_time'].min())\n",
    "print(data['date_time'].max())"
   ]
  },
  {
   "cell_type": "code",
   "execution_count": 134,
   "metadata": {},
   "outputs": [
    {
     "data": {
      "text/plain": [
       "<AxesSubplot:>"
      ]
     },
     "execution_count": 134,
     "metadata": {},
     "output_type": "execute_result"
    },
    {
     "data": {
      "image/png": "[encoded data removed]",
      "text/plain": [
       "<Figure size 1080x360 with 1 Axes>"
      ]
     },
     "metadata": {
      "needs_background": "light"
     },
     "output_type": "display_data"
    }
   ],
   "source": [
    "# histogram berdasarkan tanggal dan waktu\n",
    "data['date_time'].hist(bins=100, figsize=(15,5))"
   ]
  },
  {
   "cell_type": "code",
   "execution_count": 135,
   "metadata": {},
   "outputs": [
    {
     "data": {
      "text/html": [
       "<div>\n",
       "<style scoped>\n",
       "    .dataframe tbody tr th:only-of-type {\n",
       "        vertical-align: middle;\n",
       "    }\n",
       "\n",
       "    .dataframe tbody tr th {\n",
       "        vertical-align: top;\n",
       "    }\n",
       "\n",
       "    .dataframe thead th {\n",
       "        text-align: right;\n",
       "    }\n",
       "</style>\n",
       "<table border=\"1\" class=\"dataframe\">\n",
       "  <thead>\n",
       "    <tr style=\"text-align: right;\">\n",
       "      <th></th>\n",
       "      <th>user_id</th>\n",
       "    </tr>\n",
       "    <tr>\n",
       "      <th>date</th>\n",
       "      <th></th>\n",
       "    </tr>\n",
       "  </thead>\n",
       "  <tbody>\n",
       "    <tr>\n",
       "      <th>2019-07-25</th>\n",
       "      <td>9</td>\n",
       "    </tr>\n",
       "    <tr>\n",
       "      <th>2019-07-26</th>\n",
       "      <td>31</td>\n",
       "    </tr>\n",
       "    <tr>\n",
       "      <th>2019-07-27</th>\n",
       "      <td>55</td>\n",
       "    </tr>\n",
       "    <tr>\n",
       "      <th>2019-07-28</th>\n",
       "      <td>105</td>\n",
       "    </tr>\n",
       "    <tr>\n",
       "      <th>2019-07-29</th>\n",
       "      <td>184</td>\n",
       "    </tr>\n",
       "    <tr>\n",
       "      <th>2019-07-30</th>\n",
       "      <td>412</td>\n",
       "    </tr>\n",
       "    <tr>\n",
       "      <th>2019-07-31</th>\n",
       "      <td>2030</td>\n",
       "    </tr>\n",
       "    <tr>\n",
       "      <th>2019-08-01</th>\n",
       "      <td>36141</td>\n",
       "    </tr>\n",
       "    <tr>\n",
       "      <th>2019-08-02</th>\n",
       "      <td>35554</td>\n",
       "    </tr>\n",
       "    <tr>\n",
       "      <th>2019-08-03</th>\n",
       "      <td>33282</td>\n",
       "    </tr>\n",
       "    <tr>\n",
       "      <th>2019-08-04</th>\n",
       "      <td>32968</td>\n",
       "    </tr>\n",
       "    <tr>\n",
       "      <th>2019-08-05</th>\n",
       "      <td>36058</td>\n",
       "    </tr>\n",
       "    <tr>\n",
       "      <th>2019-08-06</th>\n",
       "      <td>35788</td>\n",
       "    </tr>\n",
       "    <tr>\n",
       "      <th>2019-08-07</th>\n",
       "      <td>31096</td>\n",
       "    </tr>\n",
       "  </tbody>\n",
       "</table>\n",
       "</div>"
      ],
      "text/plain": [
       "            user_id\n",
       "date               \n",
       "2019-07-25        9\n",
       "2019-07-26       31\n",
       "2019-07-27       55\n",
       "2019-07-28      105\n",
       "2019-07-29      184\n",
       "2019-07-30      412\n",
       "2019-07-31     2030\n",
       "2019-08-01    36141\n",
       "2019-08-02    35554\n",
       "2019-08-03    33282\n",
       "2019-08-04    32968\n",
       "2019-08-05    36058\n",
       "2019-08-06    35788\n",
       "2019-08-07    31096"
      ]
     },
     "execution_count": 135,
     "metadata": {},
     "output_type": "execute_result"
    }
   ],
   "source": [
    "data.pivot_table(index='date', values='user_id', aggfunc='count')"
   ]
  },
  {
   "cell_type": "code",
   "execution_count": 136,
   "metadata": {},
   "outputs": [
    {
     "data": {
      "text/plain": [
       "<AxesSubplot:xlabel='date'>"
      ]
     },
     "execution_count": 136,
     "metadata": {},
     "output_type": "execute_result"
    },
    {
     "data": {
      "image/png": "[encoded data removed]",
      "text/plain": [
       "<Figure size 1080x360 with 1 Axes>"
      ]
     },
     "metadata": {
      "needs_background": "light"
     },
     "output_type": "display_data"
    }
   ],
   "source": [
    "data.pivot_table(index='date', values='user_id', aggfunc='count').plot(style='o-', grid=True, figsize=(15,5))"
   ]
  },
  {
   "cell_type": "markdown",
   "metadata": {},
   "source": [
    "**findings:**\n",
    "\n",
    "- data dirasa lengkap mulai tanggal `2019-07-31 21:00`"
   ]
  },
  {
   "cell_type": "code",
   "execution_count": 137,
   "metadata": {},
   "outputs": [],
   "source": [
    "# memfilter data yang dirasa tidak lengkap\n",
    "data_filtered = data.query('date_time > \"2019-07-31 21:00\"')"
   ]
  },
  {
   "cell_type": "code",
   "execution_count": 138,
   "metadata": {},
   "outputs": [
    {
     "data": {
      "text/html": [
       "<div>\n",
       "<style scoped>\n",
       "    .dataframe tbody tr th:only-of-type {\n",
       "        vertical-align: middle;\n",
       "    }\n",
       "\n",
       "    .dataframe tbody tr th {\n",
       "        vertical-align: top;\n",
       "    }\n",
       "\n",
       "    .dataframe thead th {\n",
       "        text-align: right;\n",
       "    }\n",
       "</style>\n",
       "<table border=\"1\" class=\"dataframe\">\n",
       "  <thead>\n",
       "    <tr style=\"text-align: right;\">\n",
       "      <th></th>\n",
       "      <th>event</th>\n",
       "      <th>user_id</th>\n",
       "      <th>timestamp</th>\n",
       "      <th>exp_id</th>\n",
       "      <th>date_time</th>\n",
       "      <th>date</th>\n",
       "    </tr>\n",
       "  </thead>\n",
       "  <tbody>\n",
       "    <tr>\n",
       "      <th>1989</th>\n",
       "      <td>MainScreenAppear</td>\n",
       "      <td>7701922487875823903</td>\n",
       "      <td>1564606857</td>\n",
       "      <td>247</td>\n",
       "      <td>2019-07-31 21:00:57</td>\n",
       "      <td>2019-07-31</td>\n",
       "    </tr>\n",
       "    <tr>\n",
       "      <th>1990</th>\n",
       "      <td>MainScreenAppear</td>\n",
       "      <td>2539077412200498909</td>\n",
       "      <td>1564606905</td>\n",
       "      <td>247</td>\n",
       "      <td>2019-07-31 21:01:45</td>\n",
       "      <td>2019-07-31</td>\n",
       "    </tr>\n",
       "    <tr>\n",
       "      <th>1991</th>\n",
       "      <td>OffersScreenAppear</td>\n",
       "      <td>3286987355161301427</td>\n",
       "      <td>1564606941</td>\n",
       "      <td>248</td>\n",
       "      <td>2019-07-31 21:02:21</td>\n",
       "      <td>2019-07-31</td>\n",
       "    </tr>\n",
       "    <tr>\n",
       "      <th>1992</th>\n",
       "      <td>OffersScreenAppear</td>\n",
       "      <td>3187166762535343300</td>\n",
       "      <td>1564606943</td>\n",
       "      <td>247</td>\n",
       "      <td>2019-07-31 21:02:23</td>\n",
       "      <td>2019-07-31</td>\n",
       "    </tr>\n",
       "    <tr>\n",
       "      <th>1993</th>\n",
       "      <td>MainScreenAppear</td>\n",
       "      <td>1118952406011435924</td>\n",
       "      <td>1564607005</td>\n",
       "      <td>248</td>\n",
       "      <td>2019-07-31 21:03:25</td>\n",
       "      <td>2019-07-31</td>\n",
       "    </tr>\n",
       "  </tbody>\n",
       "</table>\n",
       "</div>"
      ],
      "text/plain": [
       "                   event              user_id   timestamp  exp_id  \\\n",
       "1989    MainScreenAppear  7701922487875823903  1564606857     247   \n",
       "1990    MainScreenAppear  2539077412200498909  1564606905     247   \n",
       "1991  OffersScreenAppear  3286987355161301427  1564606941     248   \n",
       "1992  OffersScreenAppear  3187166762535343300  1564606943     247   \n",
       "1993    MainScreenAppear  1118952406011435924  1564607005     248   \n",
       "\n",
       "               date_time        date  \n",
       "1989 2019-07-31 21:00:57  2019-07-31  \n",
       "1990 2019-07-31 21:01:45  2019-07-31  \n",
       "1991 2019-07-31 21:02:21  2019-07-31  \n",
       "1992 2019-07-31 21:02:23  2019-07-31  \n",
       "1993 2019-07-31 21:03:25  2019-07-31  "
      ]
     },
     "execution_count": 138,
     "metadata": {},
     "output_type": "execute_result"
    }
   ],
   "source": [
    "data_filtered.head()"
   ]
  },
  {
   "cell_type": "code",
   "execution_count": 139,
   "metadata": {},
   "outputs": [
    {
     "data": {
      "text/plain": [
       "((243713, 6), (241724, 6))"
      ]
     },
     "execution_count": 139,
     "metadata": {},
     "output_type": "execute_result"
    }
   ],
   "source": [
    "# melihat perbedaan data\n",
    "data.shape, data_filtered.shape"
   ]
  },
  {
   "cell_type": "code",
   "execution_count": 140,
   "metadata": {},
   "outputs": [
    {
     "data": {
      "text/plain": [
       "<AxesSubplot:>"
      ]
     },
     "execution_count": 140,
     "metadata": {},
     "output_type": "execute_result"
    },
    {
     "data": {
      "image/png": "[encoded data removed]",
      "text/plain": [
       "<Figure size 1080x360 with 1 Axes>"
      ]
     },
     "metadata": {
      "needs_background": "light"
     },
     "output_type": "display_data"
    }
   ],
   "source": [
    "# histogram setelah mengabaikan data lama\n",
    "data_filtered['date_time'].hist(bins=100, figsize=(15,5))"
   ]
  },
  {
   "cell_type": "markdown",
   "metadata": {},
   "source": [
    "### Apakah Anda kehilangan banyak peristiwa dan pengguna saat menyingkirkan data lama?"
   ]
  },
  {
   "cell_type": "code",
   "execution_count": 141,
   "metadata": {},
   "outputs": [
    {
     "data": {
      "text/plain": [
       "0.008161238834202524"
      ]
     },
     "execution_count": 141,
     "metadata": {},
     "output_type": "execute_result"
    }
   ],
   "source": [
    "(data.shape[0] - data_filtered.shape[0]) / data.shape[0]"
   ]
  },
  {
   "cell_type": "markdown",
   "metadata": {},
   "source": [
    "**findigs:**\n",
    "\n",
    "- data yang dihilangkan sangatlah sedikit, sekitar `0.81%` dari data pada awalnya"
   ]
  },
  {
   "cell_type": "markdown",
   "metadata": {},
   "source": [
    "### Pastikan Anda memiliki pengguna dari ketiga kelompok eksperimen."
   ]
  },
  {
   "cell_type": "code",
   "execution_count": 142,
   "metadata": {},
   "outputs": [
    {
     "data": {
      "text/plain": [
       "248    84875\n",
       "246    79556\n",
       "247    77293\n",
       "Name: exp_id, dtype: int64"
      ]
     },
     "execution_count": 142,
     "metadata": {},
     "output_type": "execute_result"
    }
   ],
   "source": [
    "data_filtered['exp_id'].value_counts()"
   ]
  },
  {
   "cell_type": "markdown",
   "metadata": {},
   "source": [
    "**findings:**\n",
    "\n",
    "- sudah terdapat pengguna pada ketiga kelompok eksperimen \n",
    "- meskipun angkanya tidak sama, perbedaan nya tidak jauh berbeda "
   ]
  },
  {
   "cell_type": "markdown",
   "metadata": {},
   "source": [
    "## Pelajari corong peristiwanya"
   ]
  },
  {
   "cell_type": "markdown",
   "metadata": {},
   "source": [
    "### Lihat peristiwa apa saja yang ada dalam log dan berapa banyak frekuensi kemunculannya. Urutkan peristiwa tersebut berdasarkan frekuensi."
   ]
  },
  {
   "cell_type": "code",
   "execution_count": 143,
   "metadata": {},
   "outputs": [
    {
     "data": {
      "text/html": [
       "<div>\n",
       "<style scoped>\n",
       "    .dataframe tbody tr th:only-of-type {\n",
       "        vertical-align: middle;\n",
       "    }\n",
       "\n",
       "    .dataframe tbody tr th {\n",
       "        vertical-align: top;\n",
       "    }\n",
       "\n",
       "    .dataframe thead th {\n",
       "        text-align: right;\n",
       "    }\n",
       "</style>\n",
       "<table border=\"1\" class=\"dataframe\">\n",
       "  <thead>\n",
       "    <tr style=\"text-align: right;\">\n",
       "      <th></th>\n",
       "      <th>user_id</th>\n",
       "    </tr>\n",
       "    <tr>\n",
       "      <th>event</th>\n",
       "      <th></th>\n",
       "    </tr>\n",
       "  </thead>\n",
       "  <tbody>\n",
       "    <tr>\n",
       "      <th>MainScreenAppear</th>\n",
       "      <td>117889</td>\n",
       "    </tr>\n",
       "    <tr>\n",
       "      <th>OffersScreenAppear</th>\n",
       "      <td>46531</td>\n",
       "    </tr>\n",
       "    <tr>\n",
       "      <th>CartScreenAppear</th>\n",
       "      <td>42343</td>\n",
       "    </tr>\n",
       "    <tr>\n",
       "      <th>PaymentScreenSuccessful</th>\n",
       "      <td>33951</td>\n",
       "    </tr>\n",
       "    <tr>\n",
       "      <th>Tutorial</th>\n",
       "      <td>1010</td>\n",
       "    </tr>\n",
       "  </tbody>\n",
       "</table>\n",
       "</div>"
      ],
      "text/plain": [
       "                         user_id\n",
       "event                           \n",
       "MainScreenAppear          117889\n",
       "OffersScreenAppear         46531\n",
       "CartScreenAppear           42343\n",
       "PaymentScreenSuccessful    33951\n",
       "Tutorial                    1010"
      ]
     },
     "execution_count": 143,
     "metadata": {},
     "output_type": "execute_result"
    }
   ],
   "source": [
    "data_filtered.pivot_table(index='event', values='user_id', aggfunc='count').sort_values(by='user_id', ascending=False)"
   ]
  },
  {
   "cell_type": "markdown",
   "metadata": {},
   "source": [
    "### Temukan jumlah pengguna yang melakukan setiap tindakan. Urutkan peristiwa berdasarkan jumlah pengguna. Hitung proporsi pengguna yang melakukan tindakan setidaknya satu kali."
   ]
  },
  {
   "cell_type": "code",
   "execution_count": 144,
   "metadata": {},
   "outputs": [],
   "source": [
    "# jumlah pengguna yang melakukan setiap tindakan\n",
    "users_per_event = (\n",
    "    data_filtered.pivot_table(index='event', values='user_id', aggfunc='nunique')\n",
    "    .sort_values('user_id', ascending=False)\n",
    ")"
   ]
  },
  {
   "cell_type": "code",
   "execution_count": 145,
   "metadata": {},
   "outputs": [
    {
     "data": {
      "text/html": [
       "<div>\n",
       "<style scoped>\n",
       "    .dataframe tbody tr th:only-of-type {\n",
       "        vertical-align: middle;\n",
       "    }\n",
       "\n",
       "    .dataframe tbody tr th {\n",
       "        vertical-align: top;\n",
       "    }\n",
       "\n",
       "    .dataframe thead th {\n",
       "        text-align: right;\n",
       "    }\n",
       "</style>\n",
       "<table border=\"1\" class=\"dataframe\">\n",
       "  <thead>\n",
       "    <tr style=\"text-align: right;\">\n",
       "      <th></th>\n",
       "      <th>user_id</th>\n",
       "    </tr>\n",
       "    <tr>\n",
       "      <th>event</th>\n",
       "      <th></th>\n",
       "    </tr>\n",
       "  </thead>\n",
       "  <tbody>\n",
       "    <tr>\n",
       "      <th>MainScreenAppear</th>\n",
       "      <td>7423</td>\n",
       "    </tr>\n",
       "    <tr>\n",
       "      <th>OffersScreenAppear</th>\n",
       "      <td>4597</td>\n",
       "    </tr>\n",
       "    <tr>\n",
       "      <th>CartScreenAppear</th>\n",
       "      <td>3736</td>\n",
       "    </tr>\n",
       "    <tr>\n",
       "      <th>PaymentScreenSuccessful</th>\n",
       "      <td>3540</td>\n",
       "    </tr>\n",
       "    <tr>\n",
       "      <th>Tutorial</th>\n",
       "      <td>843</td>\n",
       "    </tr>\n",
       "  </tbody>\n",
       "</table>\n",
       "</div>"
      ],
      "text/plain": [
       "                         user_id\n",
       "event                           \n",
       "MainScreenAppear            7423\n",
       "OffersScreenAppear          4597\n",
       "CartScreenAppear            3736\n",
       "PaymentScreenSuccessful     3540\n",
       "Tutorial                     843"
      ]
     },
     "execution_count": 145,
     "metadata": {},
     "output_type": "execute_result"
    }
   ],
   "source": [
    "users_per_event"
   ]
  },
  {
   "cell_type": "code",
   "execution_count": 146,
   "metadata": {},
   "outputs": [
    {
     "data": {
      "text/plain": [
       "7538"
      ]
     },
     "execution_count": 146,
     "metadata": {},
     "output_type": "execute_result"
    }
   ],
   "source": [
    "data_filtered['user_id'].nunique()"
   ]
  },
  {
   "cell_type": "code",
   "execution_count": 147,
   "metadata": {},
   "outputs": [
    {
     "data": {
      "text/html": [
       "<div>\n",
       "<style scoped>\n",
       "    .dataframe tbody tr th:only-of-type {\n",
       "        vertical-align: middle;\n",
       "    }\n",
       "\n",
       "    .dataframe tbody tr th {\n",
       "        vertical-align: top;\n",
       "    }\n",
       "\n",
       "    .dataframe thead th {\n",
       "        text-align: right;\n",
       "    }\n",
       "</style>\n",
       "<table border=\"1\" class=\"dataframe\">\n",
       "  <thead>\n",
       "    <tr style=\"text-align: right;\">\n",
       "      <th></th>\n",
       "      <th>user_id</th>\n",
       "    </tr>\n",
       "    <tr>\n",
       "      <th>event</th>\n",
       "      <th></th>\n",
       "    </tr>\n",
       "  </thead>\n",
       "  <tbody>\n",
       "    <tr>\n",
       "      <th>MainScreenAppear</th>\n",
       "      <td>0.984744</td>\n",
       "    </tr>\n",
       "    <tr>\n",
       "      <th>OffersScreenAppear</th>\n",
       "      <td>0.609843</td>\n",
       "    </tr>\n",
       "    <tr>\n",
       "      <th>CartScreenAppear</th>\n",
       "      <td>0.495622</td>\n",
       "    </tr>\n",
       "    <tr>\n",
       "      <th>PaymentScreenSuccessful</th>\n",
       "      <td>0.469621</td>\n",
       "    </tr>\n",
       "    <tr>\n",
       "      <th>Tutorial</th>\n",
       "      <td>0.111833</td>\n",
       "    </tr>\n",
       "  </tbody>\n",
       "</table>\n",
       "</div>"
      ],
      "text/plain": [
       "                          user_id\n",
       "event                            \n",
       "MainScreenAppear         0.984744\n",
       "OffersScreenAppear       0.609843\n",
       "CartScreenAppear         0.495622\n",
       "PaymentScreenSuccessful  0.469621\n",
       "Tutorial                 0.111833"
      ]
     },
     "execution_count": 147,
     "metadata": {},
     "output_type": "execute_result"
    }
   ],
   "source": [
    "# menghitung proporsi\n",
    "users_per_event / data_filtered['user_id'].nunique()"
   ]
  },
  {
   "cell_type": "markdown",
   "metadata": {},
   "source": [
    "### Menurut Anda, dalam urutan apa tindakan-tindakan tersebut terjadi? Apakah semuanya merupakan bagian dari satu urutan? Anda tidak perlu memperhitungkan semuanya saat menghitung corong."
   ]
  },
  {
   "cell_type": "markdown",
   "metadata": {},
   "source": [
    "**menurut saya, urutan tindakannya adalah seperti ini:**\n",
    "\n",
    "1. `MainScreenAppear`\n",
    "2. `Tutorial`\n",
    "3. `OffersScreenAppear`\n",
    "4. `CartScreenAppear`\n",
    "5. `PaymentScreenSuccessful`\n",
    "\n",
    "dari urutan diatas, `Tutorial` merupakan tindakan dengan jumlah pengguna paling sedikit. hal ini bisa jadi karena para pengguna sudah terbiasa menggunakan aplikasi serupa dan memilih untuk melewati `Tutorial` tersebut. seringkali `Tutorial` bersifat opsional dan tidak bersifat wajib bagi para pengguna, karena itu banyak pengguna yang melewati tindakan tersebut."
   ]
  },
  {
   "cell_type": "markdown",
   "metadata": {},
   "source": [
    "karena `Tutorial` bersifat opsional, **maka urutan corongnya menurut saya adalah:**\n",
    "\n",
    "1. `MainScreenAppear`\n",
    "2. `OffersScreenAppear`\n",
    "3. `CartScreenAppear`\n",
    "4. `PaymentScreenSuccessful`"
   ]
  },
  {
   "cell_type": "markdown",
   "metadata": {},
   "source": [
    "### Gunakan corong peristiwa untuk menemukan persentase pengguna yang terus berlanjut dari satu tahap ke tahap berikutnya. (Misalnya, untuk urutan peristiwa A → B → C, hitung rasio pengguna pada tahap B terhadap jumlah pengguna pada tahap A, serta rasio pengguna pada tahap C terhadap jumlah pengguna pada tahap B)."
   ]
  },
  {
   "cell_type": "code",
   "execution_count": 148,
   "metadata": {},
   "outputs": [
    {
     "data": {
      "text/html": [
       "<div>\n",
       "<style scoped>\n",
       "    .dataframe tbody tr th:only-of-type {\n",
       "        vertical-align: middle;\n",
       "    }\n",
       "\n",
       "    .dataframe tbody tr th {\n",
       "        vertical-align: top;\n",
       "    }\n",
       "\n",
       "    .dataframe thead th {\n",
       "        text-align: right;\n",
       "    }\n",
       "</style>\n",
       "<table border=\"1\" class=\"dataframe\">\n",
       "  <thead>\n",
       "    <tr style=\"text-align: right;\">\n",
       "      <th></th>\n",
       "      <th>user_id</th>\n",
       "    </tr>\n",
       "    <tr>\n",
       "      <th>event</th>\n",
       "      <th></th>\n",
       "    </tr>\n",
       "  </thead>\n",
       "  <tbody>\n",
       "    <tr>\n",
       "      <th>MainScreenAppear</th>\n",
       "      <td>7423</td>\n",
       "    </tr>\n",
       "    <tr>\n",
       "      <th>OffersScreenAppear</th>\n",
       "      <td>4597</td>\n",
       "    </tr>\n",
       "    <tr>\n",
       "      <th>CartScreenAppear</th>\n",
       "      <td>3736</td>\n",
       "    </tr>\n",
       "    <tr>\n",
       "      <th>PaymentScreenSuccessful</th>\n",
       "      <td>3540</td>\n",
       "    </tr>\n",
       "    <tr>\n",
       "      <th>Tutorial</th>\n",
       "      <td>843</td>\n",
       "    </tr>\n",
       "  </tbody>\n",
       "</table>\n",
       "</div>"
      ],
      "text/plain": [
       "                         user_id\n",
       "event                           \n",
       "MainScreenAppear            7423\n",
       "OffersScreenAppear          4597\n",
       "CartScreenAppear            3736\n",
       "PaymentScreenSuccessful     3540\n",
       "Tutorial                     843"
      ]
     },
     "execution_count": 148,
     "metadata": {},
     "output_type": "execute_result"
    }
   ],
   "source": [
    "users_per_event"
   ]
  },
  {
   "cell_type": "code",
   "execution_count": 149,
   "metadata": {},
   "outputs": [],
   "source": [
    "# tidak memasukkan tutorial pada funnel\n",
    "users_funnel = users_per_event[:-1]"
   ]
  },
  {
   "cell_type": "code",
   "execution_count": 150,
   "metadata": {
    "scrolled": true
   },
   "outputs": [
    {
     "data": {
      "text/html": [
       "<div>\n",
       "<style scoped>\n",
       "    .dataframe tbody tr th:only-of-type {\n",
       "        vertical-align: middle;\n",
       "    }\n",
       "\n",
       "    .dataframe tbody tr th {\n",
       "        vertical-align: top;\n",
       "    }\n",
       "\n",
       "    .dataframe thead th {\n",
       "        text-align: right;\n",
       "    }\n",
       "</style>\n",
       "<table border=\"1\" class=\"dataframe\">\n",
       "  <thead>\n",
       "    <tr style=\"text-align: right;\">\n",
       "      <th></th>\n",
       "      <th>user_id</th>\n",
       "    </tr>\n",
       "    <tr>\n",
       "      <th>event</th>\n",
       "      <th></th>\n",
       "    </tr>\n",
       "  </thead>\n",
       "  <tbody>\n",
       "    <tr>\n",
       "      <th>MainScreenAppear</th>\n",
       "      <td>7423</td>\n",
       "    </tr>\n",
       "    <tr>\n",
       "      <th>OffersScreenAppear</th>\n",
       "      <td>4597</td>\n",
       "    </tr>\n",
       "    <tr>\n",
       "      <th>CartScreenAppear</th>\n",
       "      <td>3736</td>\n",
       "    </tr>\n",
       "    <tr>\n",
       "      <th>PaymentScreenSuccessful</th>\n",
       "      <td>3540</td>\n",
       "    </tr>\n",
       "  </tbody>\n",
       "</table>\n",
       "</div>"
      ],
      "text/plain": [
       "                         user_id\n",
       "event                           \n",
       "MainScreenAppear            7423\n",
       "OffersScreenAppear          4597\n",
       "CartScreenAppear            3736\n",
       "PaymentScreenSuccessful     3540"
      ]
     },
     "execution_count": 150,
     "metadata": {},
     "output_type": "execute_result"
    }
   ],
   "source": [
    "users_funnel"
   ]
  },
  {
   "cell_type": "code",
   "execution_count": 151,
   "metadata": {},
   "outputs": [
    {
     "data": {
      "text/html": [
       "<div>\n",
       "<style scoped>\n",
       "    .dataframe tbody tr th:only-of-type {\n",
       "        vertical-align: middle;\n",
       "    }\n",
       "\n",
       "    .dataframe tbody tr th {\n",
       "        vertical-align: top;\n",
       "    }\n",
       "\n",
       "    .dataframe thead th {\n",
       "        text-align: right;\n",
       "    }\n",
       "</style>\n",
       "<table border=\"1\" class=\"dataframe\">\n",
       "  <thead>\n",
       "    <tr style=\"text-align: right;\">\n",
       "      <th></th>\n",
       "      <th>user_id</th>\n",
       "    </tr>\n",
       "    <tr>\n",
       "      <th>event</th>\n",
       "      <th></th>\n",
       "    </tr>\n",
       "  </thead>\n",
       "  <tbody>\n",
       "    <tr>\n",
       "      <th>MainScreenAppear</th>\n",
       "      <td>1.000000</td>\n",
       "    </tr>\n",
       "    <tr>\n",
       "      <th>OffersScreenAppear</th>\n",
       "      <td>0.619291</td>\n",
       "    </tr>\n",
       "    <tr>\n",
       "      <th>CartScreenAppear</th>\n",
       "      <td>0.812704</td>\n",
       "    </tr>\n",
       "    <tr>\n",
       "      <th>PaymentScreenSuccessful</th>\n",
       "      <td>0.947537</td>\n",
       "    </tr>\n",
       "  </tbody>\n",
       "</table>\n",
       "</div>"
      ],
      "text/plain": [
       "                          user_id\n",
       "event                            \n",
       "MainScreenAppear         1.000000\n",
       "OffersScreenAppear       0.619291\n",
       "CartScreenAppear         0.812704\n",
       "PaymentScreenSuccessful  0.947537"
      ]
     },
     "execution_count": 151,
     "metadata": {},
     "output_type": "execute_result"
    }
   ],
   "source": [
    "(users_funnel / users_funnel.shift()).fillna(1)"
   ]
  },
  {
   "cell_type": "markdown",
   "metadata": {},
   "source": [
    "###  Pada tahap manakah Anda kehilangan banyak pengguna?"
   ]
  },
  {
   "cell_type": "markdown",
   "metadata": {},
   "source": [
    "- tahap `MainScreenAppear` → `OffersScreenAppear` menjadi tahap berurutan dengan jumlah kehilangan pengguna yang paling banyak, hal yang mungkin saja terjadi adalah beberapa pengguna secara tidak sengaja membuka aplikasi dan ketika mereka sudah berada di main screen, mereka langsung keluar atau menutup aplikasi tersebut"
   ]
  },
  {
   "cell_type": "markdown",
   "metadata": {},
   "source": [
    "### Berapa banyak persentase pengguna yang berhasil menyelesaikan seluruh tahapan yang ada, dari peristiwa pertama hingga pembayaran?"
   ]
  },
  {
   "cell_type": "code",
   "execution_count": 152,
   "metadata": {},
   "outputs": [
    {
     "data": {
      "text/plain": [
       "0.47689613363869054"
      ]
     },
     "execution_count": 152,
     "metadata": {},
     "output_type": "execute_result"
    }
   ],
   "source": [
    "(users_funnel.loc['PaymentScreenSuccessful'] / users_funnel.loc['MainScreenAppear'])['user_id']"
   ]
  },
  {
   "cell_type": "markdown",
   "metadata": {},
   "source": [
    "**findings:**\n",
    "\n",
    "- hanya sekitar `47.6%` pengguna yang berhasil menyelesaikan tahapan yang ada dari membuka main screen sampai berhasil melakukan pembayaran\n",
    "- angka tersebut cukup baik karena hampir mencapai `50%`, dimana beberapa tingkat konversi pada aplikasi lain banyak yang lebih rendah dari angka tersebut"
   ]
  },
  {
   "cell_type": "markdown",
   "metadata": {},
   "source": [
    "## Pelajari hasil eksperimen Anda"
   ]
  },
  {
   "cell_type": "markdown",
   "metadata": {},
   "source": [
    "### Berapa banyak pengguna yang ada di setiap kelompok?"
   ]
  },
  {
   "cell_type": "code",
   "execution_count": 153,
   "metadata": {},
   "outputs": [],
   "source": [
    "users_per_group = data_filtered.pivot_table(index='exp_id',\n",
    "                                           values='user_id', aggfunc='nunique')"
   ]
  },
  {
   "cell_type": "code",
   "execution_count": 154,
   "metadata": {},
   "outputs": [],
   "source": [
    "users_per_group = users_per_group.rename({'user_id':'users'}, axis=1)"
   ]
  },
  {
   "cell_type": "code",
   "execution_count": 155,
   "metadata": {},
   "outputs": [
    {
     "data": {
      "text/html": [
       "<div>\n",
       "<style scoped>\n",
       "    .dataframe tbody tr th:only-of-type {\n",
       "        vertical-align: middle;\n",
       "    }\n",
       "\n",
       "    .dataframe tbody tr th {\n",
       "        vertical-align: top;\n",
       "    }\n",
       "\n",
       "    .dataframe thead th {\n",
       "        text-align: right;\n",
       "    }\n",
       "</style>\n",
       "<table border=\"1\" class=\"dataframe\">\n",
       "  <thead>\n",
       "    <tr style=\"text-align: right;\">\n",
       "      <th></th>\n",
       "      <th>users</th>\n",
       "    </tr>\n",
       "    <tr>\n",
       "      <th>exp_id</th>\n",
       "      <th></th>\n",
       "    </tr>\n",
       "  </thead>\n",
       "  <tbody>\n",
       "    <tr>\n",
       "      <th>246</th>\n",
       "      <td>2484</td>\n",
       "    </tr>\n",
       "    <tr>\n",
       "      <th>247</th>\n",
       "      <td>2517</td>\n",
       "    </tr>\n",
       "    <tr>\n",
       "      <th>248</th>\n",
       "      <td>2537</td>\n",
       "    </tr>\n",
       "  </tbody>\n",
       "</table>\n",
       "</div>"
      ],
      "text/plain": [
       "        users\n",
       "exp_id       \n",
       "246      2484\n",
       "247      2517\n",
       "248      2537"
      ]
     },
     "execution_count": 155,
     "metadata": {},
     "output_type": "execute_result"
    }
   ],
   "source": [
    "users_per_group"
   ]
  },
  {
   "cell_type": "markdown",
   "metadata": {},
   "source": [
    "### Kita memiliki dua kelompok kontrol dalam A/A testing, di mana kita memeriksa mekanisme dan perhitungan kita. Perhatikan apakah terdapat perbedaan yang signifikan secara statistik antara sampel 246 dan 247."
   ]
  },
  {
   "cell_type": "code",
   "execution_count": 156,
   "metadata": {},
   "outputs": [],
   "source": [
    "user_events_per_group = data_filtered.pivot_table(index='event',\n",
    "                                                 values='user_id',\n",
    "                                                 columns='exp_id',\n",
    "                                                 aggfunc='nunique').sort_values(by=246, ascending=False)"
   ]
  },
  {
   "cell_type": "code",
   "execution_count": 157,
   "metadata": {},
   "outputs": [
    {
     "data": {
      "text/html": [
       "<div>\n",
       "<style scoped>\n",
       "    .dataframe tbody tr th:only-of-type {\n",
       "        vertical-align: middle;\n",
       "    }\n",
       "\n",
       "    .dataframe tbody tr th {\n",
       "        vertical-align: top;\n",
       "    }\n",
       "\n",
       "    .dataframe thead th {\n",
       "        text-align: right;\n",
       "    }\n",
       "</style>\n",
       "<table border=\"1\" class=\"dataframe\">\n",
       "  <thead>\n",
       "    <tr style=\"text-align: right;\">\n",
       "      <th>exp_id</th>\n",
       "      <th>246</th>\n",
       "      <th>247</th>\n",
       "      <th>248</th>\n",
       "    </tr>\n",
       "    <tr>\n",
       "      <th>event</th>\n",
       "      <th></th>\n",
       "      <th></th>\n",
       "      <th></th>\n",
       "    </tr>\n",
       "  </thead>\n",
       "  <tbody>\n",
       "    <tr>\n",
       "      <th>MainScreenAppear</th>\n",
       "      <td>2450</td>\n",
       "      <td>2479</td>\n",
       "      <td>2494</td>\n",
       "    </tr>\n",
       "    <tr>\n",
       "      <th>OffersScreenAppear</th>\n",
       "      <td>1542</td>\n",
       "      <td>1524</td>\n",
       "      <td>1531</td>\n",
       "    </tr>\n",
       "    <tr>\n",
       "      <th>CartScreenAppear</th>\n",
       "      <td>1266</td>\n",
       "      <td>1239</td>\n",
       "      <td>1231</td>\n",
       "    </tr>\n",
       "    <tr>\n",
       "      <th>PaymentScreenSuccessful</th>\n",
       "      <td>1200</td>\n",
       "      <td>1158</td>\n",
       "      <td>1182</td>\n",
       "    </tr>\n",
       "    <tr>\n",
       "      <th>Tutorial</th>\n",
       "      <td>278</td>\n",
       "      <td>284</td>\n",
       "      <td>281</td>\n",
       "    </tr>\n",
       "  </tbody>\n",
       "</table>\n",
       "</div>"
      ],
      "text/plain": [
       "exp_id                    246   247   248\n",
       "event                                    \n",
       "MainScreenAppear         2450  2479  2494\n",
       "OffersScreenAppear       1542  1524  1531\n",
       "CartScreenAppear         1266  1239  1231\n",
       "PaymentScreenSuccessful  1200  1158  1182\n",
       "Tutorial                  278   284   281"
      ]
     },
     "execution_count": 157,
     "metadata": {},
     "output_type": "execute_result"
    }
   ],
   "source": [
    "user_events_per_group"
   ]
  },
  {
   "cell_type": "code",
   "execution_count": 158,
   "metadata": {
    "scrolled": true
   },
   "outputs": [
    {
     "data": {
      "text/html": [
       "<div>\n",
       "<style scoped>\n",
       "    .dataframe tbody tr th:only-of-type {\n",
       "        vertical-align: middle;\n",
       "    }\n",
       "\n",
       "    .dataframe tbody tr th {\n",
       "        vertical-align: top;\n",
       "    }\n",
       "\n",
       "    .dataframe thead th {\n",
       "        text-align: right;\n",
       "    }\n",
       "</style>\n",
       "<table border=\"1\" class=\"dataframe\">\n",
       "  <thead>\n",
       "    <tr style=\"text-align: right;\">\n",
       "      <th></th>\n",
       "      <th>users</th>\n",
       "    </tr>\n",
       "    <tr>\n",
       "      <th>exp_id</th>\n",
       "      <th></th>\n",
       "    </tr>\n",
       "  </thead>\n",
       "  <tbody>\n",
       "    <tr>\n",
       "      <th>246</th>\n",
       "      <td>2484</td>\n",
       "    </tr>\n",
       "    <tr>\n",
       "      <th>247</th>\n",
       "      <td>2517</td>\n",
       "    </tr>\n",
       "    <tr>\n",
       "      <th>248</th>\n",
       "      <td>2537</td>\n",
       "    </tr>\n",
       "  </tbody>\n",
       "</table>\n",
       "</div>"
      ],
      "text/plain": [
       "        users\n",
       "exp_id       \n",
       "246      2484\n",
       "247      2517\n",
       "248      2537"
      ]
     },
     "execution_count": 158,
     "metadata": {},
     "output_type": "execute_result"
    }
   ],
   "source": [
    "users_per_group"
   ]
  },
  {
   "cell_type": "markdown",
   "metadata": {},
   "source": [
    "**Untuk kelompok `246`:**\n",
    "\n",
    "- `trials` nya adalah 2484\n",
    "- `success` pada `MainScreenAppear` nya adalah 2450\n",
    "\n",
    "**Untuk kelompok `247`:**\n",
    "\n",
    "- `trials` nya adalah 2517\n",
    "- `success` pada `MainScreenAppear` nya adalah 2479"
   ]
  },
  {
   "cell_type": "code",
   "execution_count": 159,
   "metadata": {},
   "outputs": [],
   "source": [
    "from scipy import stats as st\n",
    "import numpy as np\n",
    "import math as mth\n",
    "\n",
    "def check_hypothesis(successes1, successes2, trials1, trials2, alpha=0.01):\n",
    "    # success proportion in the first group:\n",
    "    p1 = successes1/trials1\n",
    "\n",
    "    # success proportion in the second group:\n",
    "    p2 = successes2/trials2\n",
    "\n",
    "    # success proportion in the combined dataset:\n",
    "    p_combined = (successes1 + successes2) / (trials1 + trials2)\n",
    "    \n",
    "    # the difference between the datasets' proportions\n",
    "    difference = p1 - p2\n",
    "    \n",
    "    # calculating the statistic in standard deviations of the standard normal distribution\n",
    "    z_value = difference / mth.sqrt(p_combined * (1 - p_combined) * (1/trials1 + 1/trials2))\n",
    "\n",
    "    # setting up the standard normal distribution (mean 0, standard deviation 1)\n",
    "    distr = st.norm(0, 1)\n",
    "    \n",
    "    p_value = (1 - distr.cdf(abs(z_value))) * 2\n",
    "\n",
    "    print('p-value: ', p_value)\n",
    "\n",
    "    if (p_value < alpha):\n",
    "        print(\"Rejecting the null hypothesis: there is a significant difference between the proportions\")\n",
    "    else:\n",
    "        print(\"Failed to reject the null hypothesis: there is no reason to consider the proportions different\")"
   ]
  },
  {
   "cell_type": "code",
   "execution_count": 160,
   "metadata": {},
   "outputs": [
    {
     "name": "stdout",
     "output_type": "stream",
     "text": [
      "p-value:  [0.67562177]\n",
      "Failed to reject the null hypothesis: there is no reason to consider the proportions different\n"
     ]
    }
   ],
   "source": [
    "# cek perbedaan sampel 246 dan 247\n",
    "check_hypothesis(user_events_per_group.loc['MainScreenAppear', 246],\n",
    "                user_events_per_group.loc['MainScreenAppear', 247],\n",
    "                users_per_group.loc[246],\n",
    "                users_per_group.loc[247])"
   ]
  },
  {
   "cell_type": "markdown",
   "metadata": {},
   "source": [
    "**findings:**\n",
    "\n",
    "- menggunakan `event` `MainScreenAppear`, ditemukan bahwa tidak ada perbedaan signifikan pada kelompok `246` dan `247`"
   ]
  },
  {
   "cell_type": "markdown",
   "metadata": {},
   "source": [
    "### Pilih peristiwa yang paling populer. Pada setiap kelompok kontrol, temukan jumlah pengguna yang melakukan tindakan tersebut. Temukan persentasenya. Periksa apakah perbedaan antar kelompok signifikan secara statistik. Ulangi prosedur ini untuk semua peristiwa lainnya (akan menghemat waktu jika Anda bisa menciptakan sebuah fungsi khusus untuk melakukan pengujian ini). Bisakah Anda memastikan apakah kelompok-kelompok tersebut sudah dipisah dengan benar?"
   ]
  },
  {
   "cell_type": "code",
   "execution_count": 161,
   "metadata": {},
   "outputs": [
    {
     "data": {
      "text/html": [
       "<div>\n",
       "<style scoped>\n",
       "    .dataframe tbody tr th:only-of-type {\n",
       "        vertical-align: middle;\n",
       "    }\n",
       "\n",
       "    .dataframe tbody tr th {\n",
       "        vertical-align: top;\n",
       "    }\n",
       "\n",
       "    .dataframe thead th {\n",
       "        text-align: right;\n",
       "    }\n",
       "</style>\n",
       "<table border=\"1\" class=\"dataframe\">\n",
       "  <thead>\n",
       "    <tr style=\"text-align: right;\">\n",
       "      <th>exp_id</th>\n",
       "      <th>246</th>\n",
       "      <th>247</th>\n",
       "      <th>248</th>\n",
       "    </tr>\n",
       "    <tr>\n",
       "      <th>event</th>\n",
       "      <th></th>\n",
       "      <th></th>\n",
       "      <th></th>\n",
       "    </tr>\n",
       "  </thead>\n",
       "  <tbody>\n",
       "    <tr>\n",
       "      <th>MainScreenAppear</th>\n",
       "      <td>2450</td>\n",
       "      <td>2479</td>\n",
       "      <td>2494</td>\n",
       "    </tr>\n",
       "    <tr>\n",
       "      <th>OffersScreenAppear</th>\n",
       "      <td>1542</td>\n",
       "      <td>1524</td>\n",
       "      <td>1531</td>\n",
       "    </tr>\n",
       "    <tr>\n",
       "      <th>CartScreenAppear</th>\n",
       "      <td>1266</td>\n",
       "      <td>1239</td>\n",
       "      <td>1231</td>\n",
       "    </tr>\n",
       "    <tr>\n",
       "      <th>PaymentScreenSuccessful</th>\n",
       "      <td>1200</td>\n",
       "      <td>1158</td>\n",
       "      <td>1182</td>\n",
       "    </tr>\n",
       "    <tr>\n",
       "      <th>Tutorial</th>\n",
       "      <td>278</td>\n",
       "      <td>284</td>\n",
       "      <td>281</td>\n",
       "    </tr>\n",
       "  </tbody>\n",
       "</table>\n",
       "</div>"
      ],
      "text/plain": [
       "exp_id                    246   247   248\n",
       "event                                    \n",
       "MainScreenAppear         2450  2479  2494\n",
       "OffersScreenAppear       1542  1524  1531\n",
       "CartScreenAppear         1266  1239  1231\n",
       "PaymentScreenSuccessful  1200  1158  1182\n",
       "Tutorial                  278   284   281"
      ]
     },
     "execution_count": 161,
     "metadata": {},
     "output_type": "execute_result"
    }
   ],
   "source": [
    "user_events_per_group"
   ]
  },
  {
   "cell_type": "code",
   "execution_count": 162,
   "metadata": {},
   "outputs": [],
   "source": [
    "def check_event_hypothesis(user_events_per_group, users_per_group, event, exp1, exp2):\n",
    "    frac1= user_events_per_group.loc[event, exp1] / users_per_group.loc[exp1]\n",
    "    frac2= user_events_per_group.loc[event, exp2] / users_per_group.loc[exp2]\n",
    "    print (f'event {event} group {exp1}')\n",
    "    print (f'event {event} group {exp2}')\n",
    "    check_hypothesis(user_events_per_group.loc[event, exp1],\n",
    "                user_events_per_group.loc[event, exp2],\n",
    "                users_per_group.loc[exp1],\n",
    "                users_per_group.loc[exp2])"
   ]
  },
  {
   "cell_type": "code",
   "execution_count": 163,
   "metadata": {},
   "outputs": [
    {
     "name": "stdout",
     "output_type": "stream",
     "text": [
      "event MainScreenAppear group 246\n",
      "event MainScreenAppear group 247\n",
      "p-value:  [0.67562177]\n",
      "Failed to reject the null hypothesis: there is no reason to consider the proportions different\n",
      "----------------------------------------------\n",
      "event OffersScreenAppear group 246\n",
      "event OffersScreenAppear group 247\n",
      "p-value:  [0.26698769]\n",
      "Failed to reject the null hypothesis: there is no reason to consider the proportions different\n",
      "----------------------------------------------\n",
      "event CartScreenAppear group 246\n",
      "event CartScreenAppear group 247\n",
      "p-value:  [0.21828121]\n",
      "Failed to reject the null hypothesis: there is no reason to consider the proportions different\n",
      "----------------------------------------------\n",
      "event PaymentScreenSuccessful group 246\n",
      "event PaymentScreenSuccessful group 247\n",
      "p-value:  [0.10298395]\n",
      "Failed to reject the null hypothesis: there is no reason to consider the proportions different\n",
      "----------------------------------------------\n",
      "event Tutorial group 246\n",
      "event Tutorial group 247\n",
      "p-value:  [0.91827903]\n",
      "Failed to reject the null hypothesis: there is no reason to consider the proportions different\n",
      "----------------------------------------------\n"
     ]
    }
   ],
   "source": [
    "for event in user_events_per_group.index:\n",
    "    check_event_hypothesis(user_events_per_group, users_per_group, event, 246, 247)\n",
    "    \n",
    "    print('----------------------------------------------')"
   ]
  },
  {
   "cell_type": "markdown",
   "metadata": {},
   "source": [
    "**findings:**\n",
    "\n",
    "- setelah dilakukan tes pada semua event yang ada, ditemukan bahwa **tidak ada perbedaan yang signifikan** pada kelomopok `246` dan `247`"
   ]
  },
  {
   "cell_type": "markdown",
   "metadata": {},
   "source": [
    "### Lakukan hal yang sama untuk kelompok pengguna yang diperlihatkan versi font terbaru. Bandingkan hasilnya dengan masing-masing kelompok kontrol untuk setiap peristiwa secara terpisah. Bandingkan hasilnya dengan hasil gabungan untuk kelompok kontrol. Kesimpulan apa yang bisa Anda tarik dari eksperimen tersebut?"
   ]
  },
  {
   "cell_type": "code",
   "execution_count": 164,
   "metadata": {},
   "outputs": [
    {
     "name": "stdout",
     "output_type": "stream",
     "text": [
      "event MainScreenAppear group 246\n",
      "event MainScreenAppear group 248\n",
      "p-value:  [0.34705881]\n",
      "Failed to reject the null hypothesis: there is no reason to consider the proportions different\n",
      "----------------------------------------------\n",
      "event OffersScreenAppear group 246\n",
      "event OffersScreenAppear group 248\n",
      "p-value:  [0.20836205]\n",
      "Failed to reject the null hypothesis: there is no reason to consider the proportions different\n",
      "----------------------------------------------\n",
      "event CartScreenAppear group 246\n",
      "event CartScreenAppear group 248\n",
      "p-value:  [0.08328413]\n",
      "Failed to reject the null hypothesis: there is no reason to consider the proportions different\n",
      "----------------------------------------------\n",
      "event PaymentScreenSuccessful group 246\n",
      "event PaymentScreenSuccessful group 248\n",
      "p-value:  [0.22269359]\n",
      "Failed to reject the null hypothesis: there is no reason to consider the proportions different\n",
      "----------------------------------------------\n",
      "event Tutorial group 246\n",
      "event Tutorial group 248\n",
      "p-value:  [0.89644896]\n",
      "Failed to reject the null hypothesis: there is no reason to consider the proportions different\n",
      "----------------------------------------------\n"
     ]
    }
   ],
   "source": [
    "# untuk kelompok 246 dengan 248\n",
    "for event in user_events_per_group.index:\n",
    "    check_event_hypothesis(user_events_per_group, users_per_group, event, 246, 248)\n",
    "    \n",
    "    print('----------------------------------------------')"
   ]
  },
  {
   "cell_type": "code",
   "execution_count": 165,
   "metadata": {},
   "outputs": [
    {
     "name": "stdout",
     "output_type": "stream",
     "text": [
      "event MainScreenAppear group 247\n",
      "event MainScreenAppear group 248\n",
      "p-value:  [0.60016616]\n",
      "Failed to reject the null hypothesis: there is no reason to consider the proportions different\n",
      "----------------------------------------------\n",
      "event OffersScreenAppear group 247\n",
      "event OffersScreenAppear group 248\n",
      "p-value:  [0.88359567]\n",
      "Failed to reject the null hypothesis: there is no reason to consider the proportions different\n",
      "----------------------------------------------\n",
      "event CartScreenAppear group 247\n",
      "event CartScreenAppear group 248\n",
      "p-value:  [0.61695175]\n",
      "Failed to reject the null hypothesis: there is no reason to consider the proportions different\n",
      "----------------------------------------------\n",
      "event PaymentScreenSuccessful group 247\n",
      "event PaymentScreenSuccessful group 248\n",
      "p-value:  [0.67754136]\n",
      "Failed to reject the null hypothesis: there is no reason to consider the proportions different\n",
      "----------------------------------------------\n",
      "event Tutorial group 247\n",
      "event Tutorial group 248\n",
      "p-value:  [0.8151967]\n",
      "Failed to reject the null hypothesis: there is no reason to consider the proportions different\n",
      "----------------------------------------------\n"
     ]
    }
   ],
   "source": [
    "# untuk kelompok 247 dan 248\n",
    "for event in user_events_per_group.index:\n",
    "    check_event_hypothesis(user_events_per_group, users_per_group, event, 247, 248)\n",
    "    \n",
    "    print('----------------------------------------------')"
   ]
  },
  {
   "cell_type": "code",
   "execution_count": 166,
   "metadata": {},
   "outputs": [],
   "source": [
    "# menggabungkan kelompok 246 dan 247 per event\n",
    "user_events_per_group_control = user_events_per_group.copy()\n",
    "user_events_per_group_control.loc[:, 247] += user_events_per_group_control.loc[:, 246]\n",
    "user_events_per_group_control.drop(columns=246, inplace=True)"
   ]
  },
  {
   "cell_type": "code",
   "execution_count": 167,
   "metadata": {},
   "outputs": [
    {
     "data": {
      "text/html": [
       "<div>\n",
       "<style scoped>\n",
       "    .dataframe tbody tr th:only-of-type {\n",
       "        vertical-align: middle;\n",
       "    }\n",
       "\n",
       "    .dataframe tbody tr th {\n",
       "        vertical-align: top;\n",
       "    }\n",
       "\n",
       "    .dataframe thead th {\n",
       "        text-align: right;\n",
       "    }\n",
       "</style>\n",
       "<table border=\"1\" class=\"dataframe\">\n",
       "  <thead>\n",
       "    <tr style=\"text-align: right;\">\n",
       "      <th>exp_id</th>\n",
       "      <th>247</th>\n",
       "      <th>248</th>\n",
       "    </tr>\n",
       "    <tr>\n",
       "      <th>event</th>\n",
       "      <th></th>\n",
       "      <th></th>\n",
       "    </tr>\n",
       "  </thead>\n",
       "  <tbody>\n",
       "    <tr>\n",
       "      <th>MainScreenAppear</th>\n",
       "      <td>4929</td>\n",
       "      <td>2494</td>\n",
       "    </tr>\n",
       "    <tr>\n",
       "      <th>OffersScreenAppear</th>\n",
       "      <td>3066</td>\n",
       "      <td>1531</td>\n",
       "    </tr>\n",
       "    <tr>\n",
       "      <th>CartScreenAppear</th>\n",
       "      <td>2505</td>\n",
       "      <td>1231</td>\n",
       "    </tr>\n",
       "    <tr>\n",
       "      <th>PaymentScreenSuccessful</th>\n",
       "      <td>2358</td>\n",
       "      <td>1182</td>\n",
       "    </tr>\n",
       "    <tr>\n",
       "      <th>Tutorial</th>\n",
       "      <td>562</td>\n",
       "      <td>281</td>\n",
       "    </tr>\n",
       "  </tbody>\n",
       "</table>\n",
       "</div>"
      ],
      "text/plain": [
       "exp_id                    247   248\n",
       "event                              \n",
       "MainScreenAppear         4929  2494\n",
       "OffersScreenAppear       3066  1531\n",
       "CartScreenAppear         2505  1231\n",
       "PaymentScreenSuccessful  2358  1182\n",
       "Tutorial                  562   281"
      ]
     },
     "execution_count": 167,
     "metadata": {},
     "output_type": "execute_result"
    }
   ],
   "source": [
    "user_events_per_group_control"
   ]
  },
  {
   "cell_type": "code",
   "execution_count": 168,
   "metadata": {},
   "outputs": [],
   "source": [
    "# menggabungkan kelompok 246 dan 247\n",
    "users_per_group_control = users_per_group.copy()\n",
    "users_per_group_control.loc[247] += users_per_group_control.loc[246]\n",
    "users_per_group_control.drop(246, inplace=True)"
   ]
  },
  {
   "cell_type": "code",
   "execution_count": 169,
   "metadata": {},
   "outputs": [
    {
     "data": {
      "text/html": [
       "<div>\n",
       "<style scoped>\n",
       "    .dataframe tbody tr th:only-of-type {\n",
       "        vertical-align: middle;\n",
       "    }\n",
       "\n",
       "    .dataframe tbody tr th {\n",
       "        vertical-align: top;\n",
       "    }\n",
       "\n",
       "    .dataframe thead th {\n",
       "        text-align: right;\n",
       "    }\n",
       "</style>\n",
       "<table border=\"1\" class=\"dataframe\">\n",
       "  <thead>\n",
       "    <tr style=\"text-align: right;\">\n",
       "      <th></th>\n",
       "      <th>users</th>\n",
       "    </tr>\n",
       "    <tr>\n",
       "      <th>exp_id</th>\n",
       "      <th></th>\n",
       "    </tr>\n",
       "  </thead>\n",
       "  <tbody>\n",
       "    <tr>\n",
       "      <th>247</th>\n",
       "      <td>5001</td>\n",
       "    </tr>\n",
       "    <tr>\n",
       "      <th>248</th>\n",
       "      <td>2537</td>\n",
       "    </tr>\n",
       "  </tbody>\n",
       "</table>\n",
       "</div>"
      ],
      "text/plain": [
       "        users\n",
       "exp_id       \n",
       "247      5001\n",
       "248      2537"
      ]
     },
     "execution_count": 169,
     "metadata": {},
     "output_type": "execute_result"
    }
   ],
   "source": [
    "users_per_group_control"
   ]
  },
  {
   "cell_type": "code",
   "execution_count": 170,
   "metadata": {},
   "outputs": [
    {
     "name": "stdout",
     "output_type": "stream",
     "text": [
      "event MainScreenAppear group 247\n",
      "event MainScreenAppear group 248\n",
      "p-value:  [0.39298915]\n",
      "Failed to reject the null hypothesis: there is no reason to consider the proportions different\n",
      "----------------------------------------------\n",
      "event OffersScreenAppear group 247\n",
      "event OffersScreenAppear group 248\n",
      "p-value:  [0.41899828]\n",
      "Failed to reject the null hypothesis: there is no reason to consider the proportions different\n",
      "----------------------------------------------\n",
      "event CartScreenAppear group 247\n",
      "event CartScreenAppear group 248\n",
      "p-value:  [0.19819341]\n",
      "Failed to reject the null hypothesis: there is no reason to consider the proportions different\n",
      "----------------------------------------------\n",
      "event PaymentScreenSuccessful group 247\n",
      "event PaymentScreenSuccessful group 248\n",
      "p-value:  [0.64520577]\n",
      "Failed to reject the null hypothesis: there is no reason to consider the proportions different\n",
      "----------------------------------------------\n",
      "event Tutorial group 247\n",
      "event Tutorial group 248\n",
      "p-value:  [0.83330491]\n",
      "Failed to reject the null hypothesis: there is no reason to consider the proportions different\n",
      "----------------------------------------------\n"
     ]
    }
   ],
   "source": [
    "# untuk kelompok gabungan 246 dan 247 dengan 248\n",
    "for event in user_events_per_group.index:\n",
    "    check_event_hypothesis(user_events_per_group_control, users_per_group_control, event, 247, 248)\n",
    "    \n",
    "    print('----------------------------------------------')"
   ]
  },
  {
   "cell_type": "markdown",
   "metadata": {},
   "source": [
    "### Berapa tingkat signifikansi yang Anda tetapkan untuk menguji hipotesis statistik yang disebutkan di atas? Hitung berapa banyak pengujian hipotesis statistik yang telah Anda lakukan. Dengan tingkat signifikansi statistik 0,1 - satu dari 10 hasil bisa saja salah. Berapa tingkat signifikansi yang seharusnya ditetapkan? Jika Anda ingin mengubahnya, jalankan ulang tahap sebelumnya dan periksa kesimpulan Anda."
   ]
  },
  {
   "cell_type": "markdown",
   "metadata": {},
   "source": [
    "**findings:**\n",
    "- Hasil tes diatas adalah dengan tingkat signifikansi `0.01` yang merupakan tingkat signifikansi terendah\n",
    "- hasil tes diatas menunjukkan bahwa tidak ada perbedaan secara siginifikan antara kelompok dengan *font* lama dan *font* baru\n",
    "- karena tes telah menggunakan tingkat signifikansi `0.01` maka saya rasa tidak perlu melakukan lagi tes dengan tingkat signifikansi lebih besar yang bisa saja menunjukkan hasil yang kurang akurat\n",
    "- tingkat signifikansi yang pada umumnya digunakan adalah pada `0.05` atau `5%`. hanya saja, beberapa topik penelitian tertentu perlu menggunakan tingkat signifikansi lebih rendah (`0.01` atau `1%`) untuk mengurangi kemungkinan hasil yang salah yang bisa saja berakibat fatal seperti penelitian pada kesehatan dan topik kedokteran."
   ]
  }
 ],
 "metadata": {
  "kernelspec": {
   "display_name": "Python 3 (ipykernel)",
   "language": "python",
   "name": "python3"
  },
  "language_info": {
   "codemirror_mode": {
    "name": "ipython",
    "version": 3
   },
   "file_extension": ".py",
   "mimetype": "text/x-python",
   "name": "python",
   "nbconvert_exporter": "python",
   "pygments_lexer": "ipython3",
   "version": "3.9.13"
  },
  "toc": {
   "base_numbering": 1,
   "nav_menu": {},
   "number_sections": true,
   "sideBar": true,
   "skip_h1_title": true,
   "title_cell": "Table of Contents",
   "title_sidebar": "Contents",
   "toc_cell": false,
   "toc_position": {
    "height": "calc(100% - 180px)",
    "left": "10px",
    "top": "150px",
    "width": "295.033px"
   },
   "toc_section_display": true,
   "toc_window_display": true
  }
 },
 "nbformat": 4,
 "nbformat_minor": 2
}
